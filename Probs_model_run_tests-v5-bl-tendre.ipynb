{
 "cells": [
  {
   "cell_type": "code",
   "execution_count": 1161,
   "id": "70449042-90fe-4f99-9e2f-ef0b5e58ecf5",
   "metadata": {
    "tags": []
   },
   "outputs": [],
   "source": [
    "import numpy as np\n",
    "import pandas as pd \n",
    "import netCDF4\n",
    "from netCDF4 import Dataset\n",
    "import geopandas as gpd\n",
    "\n",
    "import sklearn\n",
    "from sklearn.preprocessing import MinMaxScaler\n",
    "import warnings\n",
    "warnings.filterwarnings(\"ignore\")\n",
    "from sklearn.ensemble import RandomForestClassifier\n",
    "from sklearn.neighbors import KNeighborsClassifier\n",
    "from sklearn.metrics import f1_score\n",
    "from sklearn.tree import export_graphviz\n",
    "from sklearn.preprocessing import MinMaxScaler\n",
    "from sklearn.metrics import mean_squared_error\n",
    "import nbimporter\n",
    "from sklearn.preprocessing import StandardScaler\n",
    "import tensorflow as tf\n",
    "from sklearn.metrics import mean_squared_error\n",
    "from sklearn.model_selection import train_test_split\n",
    "import keras\n",
    "from keras.layers import Conv1D, Conv2D,Dense, Dropout, Input, Concatenate, MaxPooling1D, BatchNormalization\n",
    "import tensorflow.keras\n",
    "\n",
    "from tensorflow.keras import layers\n",
    "from keras.models import Sequential\n",
    "from keras.layers import Flatten\n",
    "from keras.utils import to_categorical\n",
    "from keras.layers import Dense, Activation, Concatenate\n",
    "from keras.callbacks import ModelCheckpoint\n",
    "import h5py\n",
    "from keras.models import load_model\n",
    "from sklearn.preprocessing import MinMaxScaler\n",
    "\n",
    "import numpy as np\n",
    "import pandas as pd \n",
    "import netCDF4\n",
    "from netCDF4 import Dataset\n",
    "import geopandas as gpd\n",
    "import sklearn\n",
    "import warnings\n",
    "warnings.filterwarnings(\"ignore\")\n",
    "import nbimporter\n",
    "import tensorflow as tf\n",
    "from sklearn.metrics import mean_squared_error\n",
    "from sklearn.model_selection import train_test_split\n",
    "from sklearn.preprocessing import MinMaxScaler\n",
    "import keras\n",
    "from keras.layers import Conv1D,Dense, Dropout, Input\n",
    "import tensorflow.keras\n",
    "from tensorflow.keras import layers\n",
    "from keras.models import Sequential\n",
    "from keras.layers import Flatten\n",
    "from keras.utils import to_categorical\n",
    "from keras.layers import Dense, Activation, Concatenate\n",
    "from keras.callbacks import ModelCheckpoint\n",
    "import h5py\n",
    "from keras.models import load_model\n",
    "import matplotlib.pyplot as plt \n",
    "from scipy.optimize import curve_fit\n",
    "import json\n",
    "import matplotlib\n",
    "matplotlib.rcParams.update(matplotlib.rcParamsDefault)\n",
    "%matplotlib inline\n",
    "import matplotlib.pyplot as plt\n",
    "\n",
    "\n",
    "cultures = {}\n",
    "with open('lexique_cultures.json') as file:\n",
    "    cultures = json.load(file)"
   ]
  },
  {
   "cell_type": "code",
   "execution_count": 1231,
   "id": "3974d613-0569-4d70-802d-fee5a40b619d",
   "metadata": {},
   "outputs": [],
   "source": [
    "%run -i geoprocessing.py\n",
    "rand_state=np.random.randint(50)"
   ]
  },
  {
   "cell_type": "code",
   "execution_count": 1163,
   "id": "854d6abe-e37f-4921-8dd7-536e662b5b8b",
   "metadata": {},
   "outputs": [],
   "source": [
    "path_departments ='Geojson_files/contour-des-departements.geojson'\n",
    "French_departments = gpd.read_file(path_departments)\n",
    "regions_names,geometries,code_list=geojson_extract(French_departments,np.arange(len(French_departments)),'nom','geometry','code')\n",
    "geojson_columns= {'Region Name': regions_names, 'Geometry':geometries,'code':code_list}\n",
    "Regions=gpd.GeoDataFrame(geojson_columns)\n",
    "regs_to_remove=['Paris','Haute-Corse','Corse-du-Sud']\n",
    "\n",
    "Regions, reg_names, code_list = remove_regions(Regions,regs_to_remove)\n",
    "reg_names = replace_substring(reg_names)"
   ]
  },
  {
   "cell_type": "markdown",
   "id": "dce9ae75-ff61-497c-be88-ac82325f250d",
   "metadata": {
    "tags": []
   },
   "source": [
    "### Retrieving processed data "
   ]
  },
  {
   "cell_type": "code",
   "execution_count": 1164,
   "id": "3e8c5d6d-b0bf-458e-9336-7847b1334c31",
   "metadata": {
    "tags": []
   },
   "outputs": [],
   "source": [
    "nb_years_tot=23\n",
    "data_matrix_load = np.loadtxt(\"data_matrix_departments.txt\")\n",
    "\n",
    "data_features=['u10', 'v10', 't2m', 'evabs', 'evatc', 'evavt','src', 'stl1', 'sp', 'e', 'tp', 'swvl1']\n",
    "Nb_examples = len(Regions) * nb_years_tot\n",
    "data_matrix_init= data_matrix_load.reshape(\n",
    "    data_matrix_load.shape[0], data_matrix_load.shape[1] //  len(data_features), len(data_features))\n",
    "data_matrix_init=data_matrix_init.reshape((Nb_examples,365,len(data_features)))"
   ]
  },
  {
   "cell_type": "markdown",
   "id": "1ec0321d-c98b-4610-9f35-8f07aa0d9988",
   "metadata": {},
   "source": [
    "# Partie choix paramètres"
   ]
  },
  {
   "cell_type": "code",
   "execution_count": 1204,
   "id": "98ec060d-0b4b-4b43-b853-b39eaeb3c34d",
   "metadata": {},
   "outputs": [],
   "source": [
    "# Choix de la culture :\n",
    "\n",
    "nb_experiments=1\n",
    "\n",
    "culture_num=152\n",
    "\n",
    "year_choice=2013\n",
    "# [2021,2022]\n",
    "\n",
    "test_score=False\n",
    "data_test_size=0.1\n",
    "\n",
    "#This will give us a score for test_size  if True\n",
    "\n",
    "# Mettre False rendra les évaluations déterministes i.e même données d'entraînement, même données de test (utiles pour test de score avec d'autres paramètres), \n",
    "# Mettre True rendra les évaluations non déterministes\n",
    "\n",
    "random = True\n",
    "# [True,False]\n",
    "\n",
    "\n",
    "feature_choice=[0,2,8,10]\n",
    "# feature_choice=[0,1,2,3,4,5,6,7,8,9,10,11]\n",
    "# data_features=['u10', 'v10', 't2m', 'evabs', 'evatc', 'evavt','src', 'stl1', 'sp', 'e', 'tp', 'swvl1']\n",
    "\n",
    "\n",
    "#Nombre d'itérations d'entraînement\n",
    "nb_epochs=30\n",
    "# [20 to 35]\n",
    "\n",
    "#Départ de l'enregistrement de loss minimal trouvé\n",
    "start_loss_checkpoint=15\n",
    "# [8 to 15 ]\n",
    "\n",
    "\n",
    "# Paramètres de l'optimiseur\n",
    "optimizer_centering=False\n",
    "#True,False\n",
    "Verbose=0\n",
    "portions=np.arange(0.2,2.0,0.02)\n",
    "# portions=np.arange(1,1.1)"
   ]
  },
  {
   "cell_type": "code",
   "execution_count": 1205,
   "id": "29532ae1-50ae-4bd1-8c2b-adc586b6718f",
   "metadata": {},
   "outputs": [
    {
     "data": {
      "text/plain": [
       "'Bl tendre de printemps'"
      ]
     },
     "execution_count": 1205,
     "metadata": {},
     "output_type": "execute_result"
    }
   ],
   "source": [
    "import json\n",
    "cultures = {}\n",
    "with open('lexique_cultures.json') as file:\n",
    "    cultures = json.load(file)\n",
    "culture_name=cultures[str(culture_num)]\n",
    "culture_name\n"
   ]
  },
  {
   "cell_type": "code",
   "execution_count": 1206,
   "id": "15d0c844-ad3e-48d7-9474-8376ba6aadbd",
   "metadata": {},
   "outputs": [],
   "source": [
    "# 151,152"
   ]
  },
  {
   "cell_type": "code",
   "execution_count": 1207,
   "id": "75161778-a364-48c5-b441-2aa2c57edaeb",
   "metadata": {},
   "outputs": [],
   "source": [
    "\n",
    "#Données production, année début / année fin\n",
    "year_start=2000\n",
    "year_finish=2020\n",
    "\n",
    "#Ensemble des années représentées en données de production\n",
    "years_data=np.arange(year_start,year_finish+1,1)\n",
    "\n",
    "#Lecture du fichier excel de production d'une culture\n",
    "\n",
    "    \n",
    "rendement = pd.read_excel('Production data/cultures_2000_2020/rendement/culture_'+str(culture_num)+'Rendement'+'.xlsx')\n",
    "\n",
    "\n",
    "#Removing column name\n",
    "reg_rep=np.delete(np.asarray(rendement.columns),0)\n",
    "\n",
    "x_max_region,x_min_region,std_xmax,std_xmin,val_olymp_region,olymp_abs,mean_regions=gen_std_prod(years_data,rendement,reg_rep)\n",
    "\n",
    "reg_filt = find_indices(code_list, reg_rep)\n",
    "\n",
    "\n",
    "  \n",
    "portions_min=np.round(np.mean(x_min_region),2)\n",
    "portions_max=np.round(np.mean(x_max_region),2)\n",
    "\n",
    "\n",
    "\n",
    "xlim_min=min(x_min_region)+0.1\n",
    "xlim_max=max(x_max_region)-0.1\n",
    "\n",
    "# portions=np.arange(xlim_min,xlim_max,0.01)\n",
    "# portions=np.arange(0.3,2.0,0.02)\n",
    "\n",
    "# portions=np.arange(min(x_min_region)+std_xmin,max(x_min_region)-std_xmax)\n",
    "# portions=np.arange(portions_min,portions_max,0.05)"
   ]
  },
  {
   "cell_type": "code",
   "execution_count": 1208,
   "id": "e9f7bdb3-a81b-4ce2-a77e-d57353bc1cb6",
   "metadata": {},
   "outputs": [
    {
     "data": {
      "text/plain": [
       "Index(['Dept', '02', '04', '10', '19', '28', '87', '05', '36', '37', '41',\n",
       "       '45', '50', '51', '54', '59', '60', '61', '62', '80', '90', '86', '88',\n",
       "       '23'],\n",
       "      dtype='object')"
      ]
     },
     "execution_count": 1208,
     "metadata": {},
     "output_type": "execute_result"
    }
   ],
   "source": [
    "rendement.columns"
   ]
  },
  {
   "cell_type": "code",
   "execution_count": 1209,
   "id": "0dddc9d2-5070-4ebd-88a7-0ca9796241b5",
   "metadata": {
    "tags": []
   },
   "outputs": [],
   "source": [
    "## Getting predictions and probabilities of loss of production"
   ]
  },
  {
   "cell_type": "code",
   "execution_count": 1210,
   "id": "13562030-8c13-4b13-ab99-28aa35cc4cff",
   "metadata": {
    "tags": []
   },
   "outputs": [
    {
     "name": "stdout",
     "output_type": "stream",
     "text": [
      "0.2\n",
      "0.22\n",
      "0.24\n",
      "0.26\n",
      "0.27999999999999997\n",
      "0.29999999999999993\n",
      "0.31999999999999995\n",
      "0.33999999999999997\n",
      "0.35999999999999993\n",
      "0.3799999999999999\n",
      "0.3999999999999999\n",
      "0.41999999999999993\n",
      "0.4399999999999999\n",
      "0.4599999999999999\n",
      "0.47999999999999987\n",
      "0.49999999999999983\n",
      "0.5199999999999998\n",
      "0.5399999999999998\n",
      "0.5599999999999998\n",
      "0.5799999999999998\n",
      "0.5999999999999999\n",
      "0.6199999999999999\n",
      "0.6399999999999998\n",
      "0.6599999999999997\n",
      "0.6799999999999997\n",
      "0.6999999999999997\n",
      "0.7199999999999998\n",
      "0.7399999999999998\n",
      "0.7599999999999998\n",
      "0.7799999999999998\n",
      "0.7999999999999996\n",
      "0.8199999999999996\n",
      "0.8399999999999996\n",
      "0.8599999999999997\n",
      "0.8799999999999997\n",
      "0.8999999999999997\n",
      "0.9199999999999997\n",
      "0.9399999999999997\n",
      "0.9599999999999995\n",
      "0.9799999999999995\n",
      "0.9999999999999996\n",
      "1.0199999999999996\n",
      "1.0399999999999996\n",
      "1.0599999999999996\n",
      "1.0799999999999996\n",
      "1.0999999999999996\n",
      "1.1199999999999994\n",
      "1.1399999999999995\n",
      "1.1599999999999995\n",
      "1.1799999999999995\n",
      "1.1999999999999995\n",
      "1.2199999999999995\n",
      "1.2399999999999995\n",
      "1.2599999999999993\n",
      "1.2799999999999994\n",
      "1.2999999999999994\n",
      "1.3199999999999994\n",
      "1.3399999999999994\n",
      "1.3599999999999994\n",
      "1.3799999999999994\n",
      "1.3999999999999992\n",
      "1.4199999999999993\n",
      "1.4399999999999993\n",
      "1.4599999999999993\n",
      "1.4799999999999993\n",
      "1.4999999999999993\n",
      "1.5199999999999994\n",
      "1.5399999999999994\n",
      "1.5599999999999994\n",
      "1.5799999999999992\n",
      "1.5999999999999992\n",
      "1.6199999999999992\n",
      "1.6399999999999992\n",
      "1.6599999999999993\n",
      "1.6799999999999993\n",
      "1.6999999999999993\n",
      "1.719999999999999\n",
      "1.739999999999999\n",
      "1.7599999999999991\n",
      "1.7799999999999991\n",
      "1.7999999999999992\n",
      "1.8199999999999992\n",
      "1.8399999999999992\n",
      "1.8599999999999992\n",
      "1.8799999999999992\n",
      "1.899999999999999\n",
      "1.919999999999999\n",
      "1.939999999999999\n",
      "1.959999999999999\n",
      "1.979999999999999\n"
     ]
    }
   ],
   "source": [
    "year_data_start=2000\n",
    "drop_out_rate=0.1\n",
    "outlayer_neurons=128\n",
    "\n",
    "loss_histories=[]\n",
    "\n",
    "year_pick=int(year_choice-year_data_start)\n",
    "pick_years=[year_pick]\n",
    "for reg in range(1,len(reg_filt)):\n",
    "    pick_years.append(year_pick+len(years_data)*reg)\n",
    "\n",
    "tf.keras.optimizers.RMSprop(\n",
    "    learning_rate=0.001,\n",
    "    centered=optimizer_centering,\n",
    "    use_ema=False,\n",
    "    name=\"RMSprop\",\n",
    ")\n",
    "f1=[]\n",
    "for experiment in range(nb_experiments):\n",
    "\n",
    "    \n",
    "    for portion in portions : \n",
    "            print(portion)\n",
    "            if random == True:\n",
    "                rand_state=np.random.randint(50)\n",
    "            #Construction et définition du réseau de neurones \n",
    "            labels=gen_labels_portion_4(years_data,rendement,reg_rep,portion)\n",
    "            data_matrix=region_year_filter(reg_filt,years_data,nb_years_tot,data_matrix_init,24,feature_choice)\n",
    "            if year_pick<len(years_data):\n",
    "\n",
    "                data_matrix=np.delete(data_matrix,pick_years,axis=0)\n",
    "                labels=np.delete(labels,pick_years,axis=0)\n",
    "            nb_regions=len(Regions) \n",
    "\n",
    "           \n",
    "\n",
    "            model = Sequential([\n",
    "\n",
    "                  layers.Conv1D(256, 14, padding='same', activation='relu', input_shape=(365,len(feature_choice))),\n",
    "                  layers.MaxPooling1D(pool_size=8),\n",
    "                  layers.Dropout(drop_out_rate),\n",
    "                  layers.Conv1D(128, 4, padding='same', activation='relu'),\n",
    "                  layers.MaxPooling1D(pool_size=6),\n",
    "                  layers.Dropout(drop_out_rate),\n",
    "                  layers.Conv1D(64, 2, padding='same', activation='relu'),\n",
    "                  layers.MaxPooling1D(pool_size=4),\n",
    "                  layers.Dropout(drop_out_rate),\n",
    "                  layers.Flatten(),\n",
    "                  layers.Dense(outlayer_neurons, activation='relu'),\n",
    "                  layers.Dense(2,activation='softmax')\n",
    "\n",
    "            ])\n",
    "\n",
    "\n",
    "            #Compilation du modèle\n",
    "            model.compile(optimizer='RMSProp',loss='CosineSimilarity',metrics='binary_accuracy')\n",
    "\n",
    "            #Séparation des données test et entraînement\n",
    "            if test_score==True:\n",
    "                x_train, x_test, y_train, y_test = train_test_split(data_matrix,to_categorical(labels), test_size=data_test_size,random_state=rand_state)\n",
    "\n",
    "            else:\n",
    "                x_train, x_test, y_train, y_test = train_test_split(data_matrix,to_categorical(labels), test_size=0.01,random_state=rand_state)\n",
    "\n",
    "            mc = ModelCheckpoint('Test_weights/'+str(culture_num)+'_best_model_'+str(portion*100)+'.h5', monitor='val_loss', mode='min', verbose=0,save_best_only=True,start_from_epoch=start_loss_checkpoint)\n",
    "\n",
    "            history=model.fit(x_train, y_train,\n",
    "                                epochs=nb_epochs,\n",
    "                                batch_size=4,verbose=Verbose,class_weight=weights(labels,'binary'),validation_split=0.25,callbacks=[mc])\n",
    "            \n",
    "\n",
    "            saved_model = load_model('Test_weights/'+ str(culture_num)+'_best_model_'+str(portion*100)+'.h5')\n",
    "            \n",
    "            min_loss_history=min(history.history['val_loss'])\n",
    "            loss_histories.append(min_loss_history)\n",
    "            \n",
    "            if test_score==True:\n",
    "                \n",
    "                prob_class=saved_model.predict(x_test)\n",
    "                pred_labels=[]\n",
    "                y_true=[]\n",
    "                for prob in prob_class:\n",
    "                    pred_labels.append(np.argmax(prob))\n",
    "\n",
    "                for example in range(len(y_test)):\n",
    "                    y_true.append(np.argmax(y_test[example]))\n",
    "\n",
    "                f1.append(f1_score(y_true,pred_labels))\n",
    "                \n",
    "if test_score==True : \n",
    "\n",
    "    print('Score de classification')\n",
    "    print(np.round(np.mean(f1)*100,2),'+-',np.round(np.std(f1)*100,2),'%')\n"
   ]
  },
  {
   "cell_type": "code",
   "execution_count": 1211,
   "id": "3a9bed61-e060-413a-a64a-f671fbc19225",
   "metadata": {},
   "outputs": [
    {
     "data": {
      "text/plain": [
       "(23, 365, 4)"
      ]
     },
     "execution_count": 1211,
     "metadata": {},
     "output_type": "execute_result"
    }
   ],
   "source": [
    "# year_choice=2013\n",
    "\n",
    "years_tot=np.arange(2000,2023,1)\n",
    "data_matrix2=region_year_filter(reg_filt,years_tot,nb_years_tot,data_matrix_init,24,feature_choice)\n",
    "year_pick=int(year_choice-year_data_start)\n",
    "\n",
    "\n",
    "pick_years=[year_pick]\n",
    "for reg in range(1,len(reg_filt)):\n",
    "    pick_years.append(year_pick+nb_years_tot*reg)\n",
    "\n",
    "test_year_data=data_matrix2[pick_years]\n",
    "\n",
    "test_year_data.shape"
   ]
  },
  {
   "cell_type": "code",
   "execution_count": 1212,
   "id": "27e7f2fd-3c4d-43ce-926c-90f3bd8a74be",
   "metadata": {},
   "outputs": [
    {
     "name": "stdout",
     "output_type": "stream",
     "text": [
      "1/1 [==============================] - 0s 112ms/step\n",
      "1/1 [==============================] - 0s 133ms/step\n",
      "1/1 [==============================] - 0s 131ms/step\n",
      "1/1 [==============================] - 0s 117ms/step\n",
      "1/1 [==============================] - 0s 118ms/step\n",
      "1/1 [==============================] - 0s 112ms/step\n",
      "1/1 [==============================] - 0s 125ms/step\n",
      "1/1 [==============================] - 0s 122ms/step\n",
      "1/1 [==============================] - 0s 123ms/step\n",
      "1/1 [==============================] - 0s 123ms/step\n",
      "1/1 [==============================] - 0s 130ms/step\n",
      "1/1 [==============================] - 0s 118ms/step\n",
      "1/1 [==============================] - 0s 118ms/step\n",
      "1/1 [==============================] - 0s 135ms/step\n",
      "1/1 [==============================] - 0s 128ms/step\n",
      "1/1 [==============================] - 0s 132ms/step\n",
      "1/1 [==============================] - 0s 191ms/step\n",
      "1/1 [==============================] - 0s 114ms/step\n",
      "1/1 [==============================] - 0s 120ms/step\n",
      "1/1 [==============================] - 0s 111ms/step\n",
      "1/1 [==============================] - 0s 129ms/step\n",
      "1/1 [==============================] - 0s 143ms/step\n",
      "1/1 [==============================] - 0s 123ms/step\n",
      "1/1 [==============================] - 0s 140ms/step\n",
      "1/1 [==============================] - 0s 114ms/step\n",
      "1/1 [==============================] - 0s 113ms/step\n",
      "1/1 [==============================] - 0s 174ms/step\n",
      "1/1 [==============================] - 0s 122ms/step\n",
      "1/1 [==============================] - 0s 116ms/step\n",
      "1/1 [==============================] - 0s 143ms/step\n",
      "1/1 [==============================] - 0s 117ms/step\n",
      "1/1 [==============================] - 0s 126ms/step\n",
      "1/1 [==============================] - 0s 125ms/step\n",
      "1/1 [==============================] - 0s 144ms/step\n",
      "1/1 [==============================] - 0s 119ms/step\n",
      "1/1 [==============================] - 0s 113ms/step\n",
      "1/1 [==============================] - 0s 187ms/step\n",
      "1/1 [==============================] - 0s 142ms/step\n",
      "1/1 [==============================] - 0s 134ms/step\n",
      "1/1 [==============================] - 0s 118ms/step\n",
      "1/1 [==============================] - 0s 130ms/step\n",
      "1/1 [==============================] - 0s 175ms/step\n",
      "1/1 [==============================] - 0s 122ms/step\n",
      "1/1 [==============================] - 0s 168ms/step\n",
      "1/1 [==============================] - 0s 111ms/step\n",
      "1/1 [==============================] - 0s 124ms/step\n",
      "1/1 [==============================] - 0s 162ms/step\n",
      "1/1 [==============================] - 0s 145ms/step\n",
      "1/1 [==============================] - 0s 140ms/step\n",
      "1/1 [==============================] - 0s 113ms/step\n",
      "1/1 [==============================] - 0s 133ms/step\n",
      "1/1 [==============================] - 0s 181ms/step\n",
      "1/1 [==============================] - 0s 124ms/step\n",
      "1/1 [==============================] - 0s 151ms/step\n",
      "1/1 [==============================] - 0s 115ms/step\n",
      "1/1 [==============================] - 0s 115ms/step\n",
      "1/1 [==============================] - 0s 134ms/step\n",
      "1/1 [==============================] - 0s 113ms/step\n",
      "1/1 [==============================] - 0s 123ms/step\n",
      "1/1 [==============================] - 0s 126ms/step\n",
      "1/1 [==============================] - 0s 122ms/step\n",
      "1/1 [==============================] - 0s 124ms/step\n",
      "1/1 [==============================] - 0s 136ms/step\n",
      "1/1 [==============================] - 0s 123ms/step\n",
      "1/1 [==============================] - 0s 112ms/step\n",
      "1/1 [==============================] - 0s 131ms/step\n",
      "1/1 [==============================] - 0s 156ms/step\n",
      "1/1 [==============================] - 0s 110ms/step\n",
      "1/1 [==============================] - 0s 114ms/step\n",
      "1/1 [==============================] - 0s 111ms/step\n",
      "1/1 [==============================] - 0s 124ms/step\n",
      "1/1 [==============================] - 0s 138ms/step\n",
      "1/1 [==============================] - 0s 112ms/step\n",
      "1/1 [==============================] - 0s 143ms/step\n",
      "1/1 [==============================] - 0s 186ms/step\n",
      "1/1 [==============================] - 0s 113ms/step\n",
      "1/1 [==============================] - 0s 124ms/step\n",
      "1/1 [==============================] - 0s 108ms/step\n",
      "1/1 [==============================] - 0s 139ms/step\n",
      "1/1 [==============================] - 0s 113ms/step\n",
      "1/1 [==============================] - 0s 118ms/step\n",
      "1/1 [==============================] - 0s 107ms/step\n",
      "1/1 [==============================] - 0s 133ms/step\n",
      "1/1 [==============================] - 0s 118ms/step\n",
      "1/1 [==============================] - 0s 112ms/step\n",
      "1/1 [==============================] - 0s 107ms/step\n",
      "1/1 [==============================] - 0s 129ms/step\n",
      "1/1 [==============================] - 0s 137ms/step\n",
      "1/1 [==============================] - 0s 208ms/step\n",
      "1/1 [==============================] - 0s 204ms/step\n"
     ]
    }
   ],
   "source": [
    "# #Génération des prédictions\n",
    "prob_csv=[]\n",
    "for portion in portions : \n",
    "        \n",
    "        saved_model = load_model('Test_weights/'+str(culture_num)+'_best_model_'+str(portion*100)+'.h5')\n",
    "        \n",
    "        predictions=np.round(np.asarray(saved_model.predict(test_year_data))[:,1],2)\n",
    "        prob_csv.append(predictions)\n",
    "\n",
    "Columns=np.asarray(reg_rep)\n",
    "prob_csv=pd.DataFrame(prob_csv,columns=Columns,index=portions)\n"
   ]
  },
  {
   "cell_type": "code",
   "execution_count": null,
   "id": "f1bea783-2b73-4da7-8326-53e311ecc6dc",
   "metadata": {},
   "outputs": [],
   "source": []
  },
  {
   "cell_type": "code",
   "execution_count": null,
   "id": "26150b10",
   "metadata": {
    "tags": []
   },
   "outputs": [],
   "source": [
    "## Getting predictions and probabilities of loss of production"
   ]
  },
  {
   "cell_type": "code",
   "execution_count": 1228,
   "id": "c4774287",
   "metadata": {},
   "outputs": [
    {
     "name": "stdout",
     "output_type": "stream",
     "text": [
      "Prédiction de la production la plus probable: 96.02%\n"
     ]
    },
    {
     "data": {
      "image/png": "[encoded data removed]",
      "text/plain": [
       "<Figure size 1200x600 with 1 Axes>"
      ]
     },
     "metadata": {},
     "output_type": "display_data"
    }
   ],
   "source": [
    "import scipy.interpolate as interpolate\n",
    "from scipy.interpolate import BSpline, splrep, splev\n",
    "\n",
    "\n",
    "reg_filt_names=np.asarray(reg_names)[np.asarray(reg_filt).astype(int)]\n",
    "\n",
    "N=5000\n",
    "# \n",
    "choice=2\n",
    "prob_region=np.asarray(prob_csv).T[choice] \n",
    "\n",
    "# prob_region_cut,portions_cut=cut_prob2(prob_region,portions,x_min_region[choice],x_max_region[choice])\n",
    "\n",
    "items_remove,smooth_curve=remove_outliers(prob_region,portions)\n",
    "\n",
    "# portions_out=np.delete(portions_cut,items_remove)\n",
    "# prob_region_out=np.delete(prob_region_cut,items_remove)\n",
    "\n",
    "t, c, k = interpolate.splrep(portions, prob_region, s=0, k=4)\n",
    "# t, c, k = interpolate.splrep(portions, smooth_curve, s=0, k=4)\n",
    "\n",
    "\n",
    "spline = interpolate.BSpline(t, c, k, extrapolate=False)\n",
    "\n",
    "xmin, xmax =portions.min(), portions.max()\n",
    "# xmin, xmax = portions_cut.min(), portions_cut.max()\n",
    "\n",
    "xx = np.linspace(xmin, xmax, N)\n",
    "\n",
    "n_interior_knots = 3\n",
    "qs = np.linspace(0, 1, n_interior_knots+2)[1:-1]\n",
    "knots = np.quantile(xx, qs)\n",
    "tck = splrep(xx, spline(xx), t=knots, k=2)\n",
    "\n",
    "\n",
    "ys_smooth = splev(xx, tck)\n",
    "\n",
    "pred_likely=np.round(np.mean(xx[np.where(np.round(ys_smooth,2)==0.5)[0]])*100,2)\n",
    "\n",
    "print('Prédiction de la production la plus probable: '+str(pred_likely)+'%')\n",
    "\n",
    "# Display\n",
    "plt.figure(figsize=(12, 6))\n",
    "# plt.plot(xx, ys, '.c')\n",
    "plt.plot(xx, ys_smooth, '-m',label='BSpline fit')\n",
    "# plt.plot(portions,smooth_curve)\n",
    "plt.scatter(portions,prob_region,label='Probabilités du modèle')\n",
    "plt.plot(xx,spline(xx))\n",
    "pred_olymp=np.where(ys_smooth==val_olymp_region[choice]*0.7)[0]\n",
    "\n",
    "plt.ylabel(r'$P(X_{i})$<$\\mu_{culture région}$')\n",
    "plt.xlabel(r'$\\%\\mu_{culture région}$')\n",
    "plt.title('Culture: '+str(culture_name)+' , Région : '+  str(reg_filt_names[choice])+',  Valeur olympique de rendement='+str(np.round(olymp_abs[choice],2))+' quintal/hectare')\n",
    "\n",
    "plt.vlines(x_max_region[choice],0,1,label='Production maximale historique de la région',colors='r',linestyles='dashed')\n",
    "plt.vlines(x_min_region[choice],0,1,label='Production minimale historique de la région',colors='r',linestyles='dashed')\n",
    "plt.vlines(val_olymp_region[choice],0,1,label='Valeur_olympique',colors='g',linestyles='dotted')\n",
    "\n",
    "plt.legend()\n",
    "plt.show()\n"
   ]
  },
  {
   "cell_type": "code",
   "execution_count": 1218,
   "id": "9ffc2109-59b9-4026-87fe-e602495ab0be",
   "metadata": {},
   "outputs": [
    {
     "name": "stdout",
     "output_type": "stream",
     "text": [
      "Prédiction smooth_Bspline du rendement moyen : 55.5 quintals/h\n",
      "Prédiction Bspline du rendement moyen: 56.0 quintals/h\n"
     ]
    }
   ],
   "source": [
    "prod_france_year_fit=[]\n",
    "prod_france_year_model=[]\n",
    "N=10000\n",
    "for choice in range(len(np.asarray(prob_csv).T)):\n",
    "    \n",
    "    most_prob=[] \n",
    "\n",
    "    #####\n",
    "\n",
    "    prob_region=np.asarray(prob_csv).T[choice] \n",
    "\n",
    "    items_remove,smooth_curve= remove_outliers(prob_region,portions)\n",
    "    smooth_curve= remove_outliers2(prob_region,portions)\n",
    "    \n",
    "    ext_remove=[]\n",
    "    ext_remove.append(np.where(np.round(prob_region,2)==0)[0])\n",
    "    # ext_remove.append(np.where(np.round(prob_region,4)==0.5)[0])\n",
    "    ext_remove.append(np.where(np.round(prob_region,2)==1)[0])\n",
    "    ext_remove=np.hstack(ext_remove)\n",
    "    prob_region2=np.delete(prob_region,ext_remove)\n",
    "    portions2=np.delete(portions,ext_remove)\n",
    "\n",
    "    t, c, k = interpolate.splrep(portions, prob_region, s=0, k=4)\n",
    "    # t, c, k = interpolate.splrep(portions, smooth_curve, s=0, k=4)\n",
    "    # t, c, k = interpolate.splrep(portions2, prob_region2, s=0, k=4)\n",
    "\n",
    "    # spline = interpolate.BSpline(t, c, k, extrapolate=False)\n",
    "        \n",
    "    xmin, xmax =portions.min(), portions.max()\n",
    "    # xmin, xmax =portions2.min() ,portions2.max()\n",
    "\n",
    "    xx = np.linspace(xmin, xmax, N)\n",
    "\n",
    "    n_interior_knots = 3\n",
    "    qs = np.linspace(0, 1, n_interior_knots+2)[1:-1]\n",
    "    knots = np.quantile(xx, qs)\n",
    "    tck = splrep(xx, spline(xx), t=knots, k=2)\n",
    "    ys_smooth = splev(xx, tck)\n",
    "  \n",
    "    prediction_rendement=np.nanmean(xx[np.where(np.round(ys_smooth,3)==0.5)[0]])*mean_regions[choice]\n",
    "    prediction_rendement_model=np.nanmean(xx[np.where(np.round(spline(xx),3)==0.5)[0]])*mean_regions[choice]\n",
    "\n",
    "    \n",
    "    prod_france_year_fit.append(prediction_rendement)\n",
    "    prod_france_year_model.append(prediction_rendement_model)\n",
    "    \n",
    "print('Prédiction smooth_Bspline du rendement moyen :', np.round(np.nanmean(prod_france_year_fit),1), 'quintals/h')\n",
    "print('Prédiction Bspline du rendement moyen:', np.round(np.nanmean(prod_france_year_model),1), 'quintals/h')\n"
   ]
  },
  {
   "cell_type": "code",
   "execution_count": 1219,
   "id": "1cb61f66-28ac-4c34-a024-527aaec2e81c",
   "metadata": {},
   "outputs": [
    {
     "name": "stdout",
     "output_type": "stream",
     "text": [
      "7.311063821910153\n",
      "6.062241794810369\n",
      "0.17261983341192888\n",
      "28.199355335533568\n"
     ]
    }
   ],
   "source": [
    "mean_rms,std_rms,min_rms,max_rms,rms,rms_noabs=rms_prod_model(prod_france_year_fit,rendement,year_choice)\n",
    "\n",
    "# print(culture_name)\n",
    "print(mean_rms)\n",
    "print(std_rms)\n",
    "print(min_rms)\n",
    "print(max_rms)"
   ]
  },
  {
   "cell_type": "code",
   "execution_count": 1232,
   "id": "55912113-af06-4471-bde9-7db1d5d40dcc",
   "metadata": {},
   "outputs": [
    {
     "name": "stdout",
     "output_type": "stream",
     "text": [
      "0.08695652173913043 0.08695652173913043\n"
     ]
    }
   ],
   "source": [
    "year_choice=2013\n",
    "score70,score80=accuracy_prod_assur(prod_france_year_fit,rendement,year_choice)\n",
    "\n",
    "print(score70,score80)"
   ]
  },
  {
   "cell_type": "code",
   "execution_count": null,
   "id": "e281f624-5201-43c2-9708-d49a5e30a8f3",
   "metadata": {},
   "outputs": [
    {
     "data": {
      "text/plain": [
       "(array([6., 4., 5., 4., 2., 1., 0., 0., 0., 1.]),\n",
       " array([ 0.17261983,  2.97529338,  5.77796693,  8.58064048, 11.38331403,\n",
       "        14.18598758, 16.98866113, 19.79133468, 22.59400824, 25.39668179,\n",
       "        28.19935534]),\n",
       " <BarContainer object of 10 artists>)"
      ]
     },
     "execution_count": 1220,
     "metadata": {},
     "output_type": "execute_result"
    },
    {
     "data": {
      "image/png": "[encoded data removed]",
      "text/plain": [
       "<Figure size 640x480 with 1 Axes>"
      ]
     },
     "metadata": {},
     "output_type": "display_data"
    }
   ],
   "source": [
    "plt.hist(rms)"
   ]
  },
  {
   "cell_type": "code",
   "execution_count": 1221,
   "id": "1ff44ae4-d4f5-4f6f-904e-6cc7dcfb19be",
   "metadata": {},
   "outputs": [
    {
     "data": {
      "text/plain": [
       "<AxesSubplot:ylabel='Density'>"
      ]
     },
     "execution_count": 1221,
     "metadata": {},
     "output_type": "execute_result"
    },
    {
     "data": {
      "image/png": "[encoded data removed]",
      "text/plain": [
       "<Figure size 640x480 with 1 Axes>"
      ]
     },
     "metadata": {},
     "output_type": "display_data"
    }
   ],
   "source": [
    "import seaborn as sns\n",
    "\n",
    "sns.distplot(rms_noabs,  hist=True, kde=True, \n",
    "             bins=int(len(rms)/2), color = 'darkblue', \n",
    "             hist_kws={'edgecolor':'black'},\n",
    "             kde_kws={'linewidth': 4})\n"
   ]
  },
  {
   "cell_type": "code",
   "execution_count": null,
   "id": "a6b53bcd-a1e9-4135-9f0e-f5c4f9cfff01",
   "metadata": {},
   "outputs": [],
   "source": [
    "score70,score80=accuracy_prod_assur(predictions,rendement,year_choice)\n",
    "\n",
    "print(score70,score80)"
   ]
  },
  {
   "cell_type": "code",
   "execution_count": 1227,
   "id": "bc57865b-1a42-459d-8411-1c81fd3f779b",
   "metadata": {},
   "outputs": [
    {
     "data": {
      "text/plain": [
       "[69.8821862471961,\n",
       " 33.28891074821766,\n",
       " 70.8186458931607,\n",
       " 36.20977297729771,\n",
       " 67.82643435772147,\n",
       " 34.82738016658807,\n",
       " 38.80064466446643,\n",
       " 51.95121369279783,\n",
       " 55.340305744860174,\n",
       " 57.21322503678937,\n",
       " 59.08614432871856,\n",
       " 54.403846098895585,\n",
       " 73.52100087151571,\n",
       " 50.36815095795291,\n",
       " 70.85877987798777,\n",
       " 68.49979343648647,\n",
       " 49.409394653751065,\n",
       " 70.76959324503876,\n",
       " 72.64251253696796,\n",
       " 53.199826554083955,\n",
       " 54.72491797751202,\n",
       " 49.27115537268011,\n",
       " 33.71254725472546]"
      ]
     },
     "execution_count": 1227,
     "metadata": {},
     "output_type": "execute_result"
    }
   ],
   "source": [
    "prod_france_year_fit"
   ]
  },
  {
   "cell_type": "code",
   "execution_count": null,
   "id": "ed9409af",
   "metadata": {},
   "outputs": [
    {
     "data": {
      "text/plain": [
       "[9.22,\n",
       " 16.01,\n",
       " 22.46,\n",
       " 28.59,\n",
       " 35.75,\n",
       " 41.14,\n",
       " 46.17,\n",
       " 50.87,\n",
       " 56.26,\n",
       " 60.2,\n",
       " 63.81,\n",
       " 67.08]"
      ]
     },
     "execution_count": 704,
     "metadata": {},
     "output_type": "execute_result"
    }
   ],
   "source": [
    "\n",
    "steps_olymp=np.arange(0.4,1,0.05)\n",
    "\n",
    "val_probs=[]\n",
    "for step in steps_olymp:\n",
    "    idx_pred_olymp=np.where(np.round(xx,2)==np.round(val_olymp_region[choice]*step,2))[0]\n",
    "    val_probs.append(np.round(np.mean(ys_smooth[idx_pred_olymp])*100,2))\n",
    "\n",
    "val_probs"
   ]
  }
 ],
 "metadata": {
  "kernelspec": {
   "display_name": "Python 3 (ipykernel)",
   "language": "python",
   "name": "python3"
  },
  "language_info": {
   "codemirror_mode": {
    "name": "ipython",
    "version": 3
   },
   "file_extension": ".py",
   "mimetype": "text/x-python",
   "name": "python",
   "nbconvert_exporter": "python",
   "pygments_lexer": "ipython3",
   "version": "3.9.12"
  }
 },
 "nbformat": 4,
 "nbformat_minor": 5
}
