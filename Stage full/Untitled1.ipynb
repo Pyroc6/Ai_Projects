{
 "cells": [
  {
   "cell_type": "code",
   "execution_count": 1,
   "id": "92a433ba",
   "metadata": {
    "scrolled": true
   },
   "outputs": [
    {
     "name": "stdout",
     "output_type": "stream",
     "text": [
      "Defaulting to user installation because normal site-packages is not writeable\n",
      "Requirement already satisfied: cesium in c:\\programdata\\anaconda3\\lib\\site-packages (0.10.1)\n",
      "Requirement already satisfied: scipy>=0.16.0 in c:\\programdata\\anaconda3\\lib\\site-packages (from cesium) (1.7.3)\n",
      "Requirement already satisfied: scikit-learn>=0.22.1 in c:\\programdata\\anaconda3\\lib\\site-packages (from cesium) (1.1.1)\n",
      "Requirement already satisfied: pandas>=0.17.0 in c:\\programdata\\anaconda3\\lib\\site-packages (from cesium) (1.4.2)\n",
      "Requirement already satisfied: cloudpickle in c:\\programdata\\anaconda3\\lib\\site-packages (from cesium) (2.0.0)\n",
      "Requirement already satisfied: dask>=2.5.0 in c:\\programdata\\anaconda3\\lib\\site-packages (from cesium) (2022.2.1)\n",
      "Requirement already satisfied: gatspy>=0.3.0 in c:\\programdata\\anaconda3\\lib\\site-packages (from cesium) (0.3)\n",
      "Requirement already satisfied: toolz in c:\\programdata\\anaconda3\\lib\\site-packages (from cesium) (0.11.2)\n",
      "Requirement already satisfied: joblib>=0.14.1 in c:\\programdata\\anaconda3\\lib\\site-packages (from cesium) (1.1.0)\n",
      "Requirement already satisfied: partd>=0.3.10 in c:\\programdata\\anaconda3\\lib\\site-packages (from dask>=2.5.0->cesium) (1.2.0)\n",
      "Requirement already satisfied: packaging>=20.0 in c:\\programdata\\anaconda3\\lib\\site-packages (from dask>=2.5.0->cesium) (21.3)\n",
      "Requirement already satisfied: fsspec>=0.6.0 in c:\\programdata\\anaconda3\\lib\\site-packages (from dask>=2.5.0->cesium) (2022.2.0)\n",
      "Requirement already satisfied: pyyaml>=5.3.1 in c:\\programdata\\anaconda3\\lib\\site-packages (from dask>=2.5.0->cesium) (6.0)\n",
      "Requirement already satisfied: numpy>=1.18.5 in c:\\programdata\\anaconda3\\lib\\site-packages (from pandas>=0.17.0->cesium) (1.21.5)\n",
      "Requirement already satisfied: pytz>=2020.1 in c:\\programdata\\anaconda3\\lib\\site-packages (from pandas>=0.17.0->cesium) (2021.3)\n",
      "Requirement already satisfied: python-dateutil>=2.8.1 in c:\\programdata\\anaconda3\\lib\\site-packages (from pandas>=0.17.0->cesium) (2.8.2)\n",
      "Requirement already satisfied: threadpoolctl>=2.0.0 in c:\\programdata\\anaconda3\\lib\\site-packages (from scikit-learn>=0.22.1->cesium) (2.2.0)\n",
      "Requirement already satisfied: pyparsing!=3.0.5,>=2.0.2 in c:\\programdata\\anaconda3\\lib\\site-packages (from packaging>=20.0->dask>=2.5.0->cesium) (3.0.4)\n",
      "Requirement already satisfied: locket in c:\\programdata\\anaconda3\\lib\\site-packages (from partd>=0.3.10->dask>=2.5.0->cesium) (0.2.1)\n",
      "Requirement already satisfied: six>=1.5 in c:\\programdata\\anaconda3\\lib\\site-packages (from python-dateutil>=2.8.1->pandas>=0.17.0->cesium) (1.16.0)\n"
     ]
    }
   ],
   "source": [
    "!pip install cesium"
   ]
  },
  {
   "cell_type": "code",
   "execution_count": 11,
   "id": "f07863cc",
   "metadata": {
    "scrolled": true
   },
   "outputs": [],
   "source": [
    "import sklearn\n",
    "from cesium import featurize"
   ]
  },
  {
   "cell_type": "code",
   "execution_count": null,
   "id": "ca892ce4",
   "metadata": {},
   "outputs": [],
   "source": []
  }
 ],
 "metadata": {
  "kernelspec": {
   "display_name": "TimeGAN",
   "language": "python",
   "name": "timegan"
  },
  "language_info": {
   "codemirror_mode": {
    "name": "ipython",
    "version": 3
   },
   "file_extension": ".py",
   "mimetype": "text/x-python",
   "name": "python",
   "nbconvert_exporter": "python",
   "pygments_lexer": "ipython3",
   "version": "3.9.12"
  }
 },
 "nbformat": 4,
 "nbformat_minor": 5
}
