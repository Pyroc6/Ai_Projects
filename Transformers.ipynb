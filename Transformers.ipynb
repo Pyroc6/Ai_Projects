{
 "cells": [
  {
   "cell_type": "code",
   "execution_count": 43,
   "id": "2f9ba461",
   "metadata": {},
   "outputs": [],
   "source": [
    "import numpy as np\n",
    "from numpy import random\n",
    "import pandas as pd\n",
    "import re\n",
    "import os\n",
    "import matplotlib.pyplot as plt\n",
    "from matplotlib.colors import ListedColormap\n",
    "import math\n",
    "from scipy import interpolate\n",
    "import sys \n",
    "from re import search\n",
    "from astropy.io import fits\n",
    "from astropy import units as u\n",
    "from astropy.time import Time\n",
    "from astropy.coordinates import SkyCoord\n",
    "from astropy.coordinates import ICRS, Galactic, FK4, FK5  # Low-level frames\n",
    "from astropy.coordinates import Angle, Latitude, Longitude\n",
    "import shutil\n",
    "from keras.callbacks import CSVLogger\n",
    "from sklearn.preprocessing import MinMaxScaler\n",
    "from sklearn.metrics import mean_squared_error\n",
    "import glob\n",
    "from datetime import datetime\n",
    "from keras.layers import Conv1D, Dense, Dropout, Input, Concatenate, GlobalMaxPooling1D\n",
    "from keras.layers.convolutional import MaxPooling1D\n",
    "from numpy import mean\n",
    "from numpy import std\n",
    "from numpy import dstack\n",
    "from pandas import read_csv\n",
    "from matplotlib import pyplot\n",
    "import tensorflow.keras\n",
    "from keras.models import Sequential\n",
    "from keras.layers import Dense\n",
    "from keras.layers import Flatten,LSTM\n",
    "from keras.utils import to_categorical\n",
    "from keras.layers import Dense, Activation, Concatenate\n",
    "from sklearn.model_selection import train_test_split\n",
    "from sklearn.model_selection import ShuffleSplit # or StratifiedShuffleSplit\n",
    "from pandas import DataFrame\n",
    "from tensorflow import keras\n",
    "from tensorflow.keras import layers\n",
    "from focal_loss import BinaryFocalLoss"
   ]
  },
  {
   "cell_type": "code",
   "execution_count": 44,
   "id": "527823ce",
   "metadata": {},
   "outputs": [],
   "source": [
    "pathON=\"C:/Users/pierr/Documents_kanop/Shps/Pierre_points_for_louis/Bureau/interpo_ONOFF/ON_data/\"\n",
    "pathOFF=\"C:/Users/pierr/Documents_kanop/Shps/Pierre_points_for_louis/Bureau/interpo_ONOFF/OFF_data/\""
   ]
  },
  {
   "cell_type": "code",
   "execution_count": 45,
   "id": "2d6ba841",
   "metadata": {},
   "outputs": [],
   "source": [
    "#Storing in a list the adresses of all the data files in the notebook\n",
    "\n",
    "data_files_ON=[]\n",
    "file_names_ON=[]\n",
    "\n",
    "data_files_OFF=[]\n",
    "file_names_OFF=[]\n",
    "data_files_ALL=[]\n",
    "file_names_ALL=[]\n",
    "\n",
    "#Storing in a list the adresses of all the data files in the notebook\n",
    "for filename in os.listdir(pathOFF):\n",
    "    f = os.path.join(pathOFF,filename)\n",
    "    if os.path.isfile(f):\n",
    "        data_files_OFF.append(f)\n",
    "        file_names_OFF.append(filename)\n",
    "        data_files_ALL.append(f)\n",
    "        file_names_ALL.append(filename)\n",
    "for filename in os.listdir(pathON):\n",
    "    f = os.path.join(pathON,filename)\n",
    "    if os.path.isfile(f):\n",
    "        data_files_ON.append(f)\n",
    "        file_names_ON.append(filename)\n",
    "        data_files_ALL.append(f)\n",
    "        file_names_ALL.append(filename)       "
   ]
  },
  {
   "cell_type": "code",
   "execution_count": 46,
   "id": "8e8e998f",
   "metadata": {},
   "outputs": [],
   "source": [
    "#Using data_files with only the 36 binning\n",
    "Filter=True\n",
    "binning=37\n",
    "\n",
    "\n",
    "if Filter==True:\n",
    "    \n",
    "    idx_OFF=[]\n",
    "    idx_ON=[]\n",
    "    dataON=[]\n",
    "    dataOFF=[]\n",
    "    for i in range(len(data_files_OFF)):\n",
    "        dataframe = pd.read_csv(data_files_OFF[i])\n",
    "        lg = len(dataframe)\n",
    "        \n",
    "        if lg==binning:\n",
    "            idx_OFF.append(i)\n",
    "    \n",
    "    for i in range(len(data_files_ON)):\n",
    "        dataframe = pd.read_csv(data_files_ON[i])\n",
    "        lg = len(dataframe)\n",
    "#         print(lg)\n",
    "        if lg==binning:\n",
    "            idx_ON.append(i)\n",
    "\n",
    "    #Construct csv dataframe with features of LC and LC dir\n",
    "    # RA, DEC ,class, file name \n",
    "\n",
    "    #Future input shape : 3511 sources, 2 features (as time series) , x binnings\n",
    "    for i in range(len(idx_OFF)):\n",
    "\n",
    "        a=idx_OFF[i]\n",
    "        dataOFF.append(data_files_OFF[a])\n",
    "    for i in range(len(idx_ON)):\n",
    "\n",
    "        a=idx_ON[i]\n",
    "        dataON.append(data_files_ON[a])\n",
    "\n",
    "idx = idx_OFF+idx_ON\n"
   ]
  },
  {
   "cell_type": "code",
   "execution_count": 9,
   "id": "527207ee",
   "metadata": {},
   "outputs": [],
   "source": [
    "#3D shape of data, multivariate time series\n",
    "\n",
    "lgON=len(dataON)\n",
    "lgOFF=len(dataOFF)\n",
    "lg=lgON+lgOFF\n",
    "Class_ON = []\n",
    "Class_OFF=[]\n",
    "\n",
    "nbfeatures=3\n",
    "\n",
    "a=binning\n",
    "b=nbfeatures\n",
    "c=lg\n",
    "\n",
    "# multivariate\n",
    "y=np.zeros((2,lg))\n",
    "bigdata= np.zeros((b,c,a))\n",
    "\n",
    "\n",
    "for j in range(len(dataOFF)):\n",
    "\n",
    "    dataframe=pd.read_csv(dataOFF[j])\n",
    "    dataframe.columns=['Iteration','MJD','Flux','Delta Flux','Photon Index','Delta Index','TS','fratio']\n",
    "\n",
    "    bigdata[0][j]=dataframe['Flux']\n",
    "    bigdata[1][j]=dataframe['Photon Index']*dataframe['Flux']\n",
    "    bigdata[2][j]=dataframe['Photon Index']\n",
    "\n",
    "\n",
    "for j in range(len(dataON)):\n",
    "\n",
    "    v=j+len(dataOFF)\n",
    "    dataframe=pd.read_csv(dataON[j])\n",
    "    dataframe.columns=['Iteration','MJD','Flux','Delta Flux','Photon Index','Delta Index','TS','fratio']\n",
    "\n",
    "    bigdata[0][v]=dataframe['Flux']\n",
    "\n",
    "    bigdata[1][v]=dataframe['Photon Index']*dataframe['Flux']\n",
    "\n",
    "    bigdata[2][v]=dataframe['Photon Index']\n",
    "\n",
    "    \n",
    "\n",
    "\n",
    "\n",
    "for i in range(lgOFF):\n",
    "    \n",
    "    Class_ON.append(int(0))\n",
    "    \n",
    "for i in range(lgON):\n",
    "    a=lgOFF+i\n",
    "    Class_ON.append(int(1))\n",
    "\n",
    "\n"
   ]
  },
  {
   "cell_type": "code",
   "execution_count": 10,
   "id": "3d4e555d",
   "metadata": {},
   "outputs": [],
   "source": [
    "bigdata=bigdata.reshape(c,binning,nbfeatures)\n",
    "n_classes=2"
   ]
  },
  {
   "cell_type": "code",
   "execution_count": 11,
   "id": "3f4b0beb",
   "metadata": {},
   "outputs": [],
   "source": [
    "model_history2=\"C:/Users/pierr/Documents_kanop/Shps/Pierre_points_for_louis/Bureau/interpo_ONOFF/history_transformers.csv\"\n",
    "csv_logger = CSVLogger(model_history2, append=True)"
   ]
  },
  {
   "cell_type": "code",
   "execution_count": 12,
   "id": "0346796f",
   "metadata": {},
   "outputs": [],
   "source": [
    "x_train, x_test, y_train, y_test = train_test_split(bigdata, Class_ON, test_size=0.01, random_state=28)\n",
    "y_test2=y_test.copy()\n",
    "y_train = to_categorical(y_train)\n",
    "y_test = to_categorical(y_test)"
   ]
  },
  {
   "cell_type": "code",
   "execution_count": 13,
   "id": "7cbad201",
   "metadata": {},
   "outputs": [],
   "source": [
    "def transformer_encoder(inputs, head_size, num_heads, ff_dim, dropout=0):\n",
    "    # Normalization and Attention\n",
    "    x = layers.LayerNormalization(epsilon=1e-6)(inputs)\n",
    "    x = layers.MultiHeadAttention(\n",
    "        key_dim=head_size, num_heads=num_heads, dropout=dropout\n",
    "    )(x, x)\n",
    "    x = layers.Dropout(dropout)(x)\n",
    "    res = x + inputs\n",
    "\n",
    "    # Feed Forward Part\n",
    "    x = layers.LayerNormalization(epsilon=1e-6)(res)\n",
    "    x = layers.Conv1D(filters=ff_dim, kernel_size=1, activation=\"relu\")(x)\n",
    "    x = layers.Dropout(dropout)(x)\n",
    "    x = layers.Conv1D(filters=inputs.shape[-1], kernel_size=1)(x)\n",
    "    return x + res"
   ]
  },
  {
   "cell_type": "code",
   "execution_count": 14,
   "id": "3cb11ee8",
   "metadata": {},
   "outputs": [],
   "source": [
    "def build_model(\n",
    "    input_shape,\n",
    "    head_size,\n",
    "    num_heads,\n",
    "    ff_dim,\n",
    "    num_transformer_blocks,\n",
    "    mlp_units,\n",
    "    dropout=0,\n",
    "    mlp_dropout=0,\n",
    "):\n",
    "    inputs = keras.Input(shape=input_shape)\n",
    "    x = inputs\n",
    "    for _ in range(num_transformer_blocks):\n",
    "        x = transformer_encoder(x, head_size, num_heads, ff_dim, dropout)\n",
    "\n",
    "    x = layers.GlobalAveragePooling1D(data_format=\"channels_first\")(x)\n",
    "    for dim in mlp_units:\n",
    "        x = layers.Dense(dim, activation=\"relu\")(x)\n",
    "        x = layers.Dropout(mlp_dropout)(x)\n",
    "    outputs = layers.Dense(n_classes, activation=\"softmax\")(x)\n",
    "    return keras.Model(inputs, outputs)"
   ]
  },
  {
   "cell_type": "code",
   "execution_count": 16,
   "id": "caed0838",
   "metadata": {
    "scrolled": true
   },
   "outputs": [
    {
     "name": "stdout",
     "output_type": "stream",
     "text": [
      "Epoch 1/20\n",
      "727/727 [==============================] - 15s 13ms/step - loss: 0.5204 - binary_accuracy: 0.6740 - val_loss: 0.3510 - val_binary_accuracy: 0.6996\n",
      "Epoch 2/20\n",
      "727/727 [==============================] - 9s 12ms/step - loss: 0.3701 - binary_accuracy: 0.7483 - val_loss: 0.3540 - val_binary_accuracy: 0.7037\n",
      "Epoch 3/20\n",
      "727/727 [==============================] - 9s 12ms/step - loss: 0.3698 - binary_accuracy: 0.7730 - val_loss: 0.4746 - val_binary_accuracy: 0.6708\n",
      "Epoch 4/20\n",
      "727/727 [==============================] - 9s 12ms/step - loss: 0.3163 - binary_accuracy: 0.7442 - val_loss: 0.4088 - val_binary_accuracy: 0.6914\n",
      "Epoch 5/20\n",
      "727/727 [==============================] - 9s 12ms/step - loss: 0.3079 - binary_accuracy: 0.7813 - val_loss: 0.2907 - val_binary_accuracy: 0.8189\n",
      "Epoch 6/20\n",
      "727/727 [==============================] - 9s 12ms/step - loss: 0.3222 - binary_accuracy: 0.8377 - val_loss: 0.4025 - val_binary_accuracy: 0.7325\n",
      "Epoch 7/20\n",
      "727/727 [==============================] - 9s 13ms/step - loss: 0.2700 - binary_accuracy: 0.8116 - val_loss: 0.3520 - val_binary_accuracy: 0.7654\n",
      "Epoch 8/20\n",
      "727/727 [==============================] - 9s 13ms/step - loss: 0.2737 - binary_accuracy: 0.8143 - val_loss: 0.3320 - val_binary_accuracy: 0.7860\n",
      "Epoch 9/20\n",
      "727/727 [==============================] - 9s 12ms/step - loss: 0.2386 - binary_accuracy: 0.8267 - val_loss: 0.2721 - val_binary_accuracy: 0.8601\n",
      "Epoch 10/20\n",
      "727/727 [==============================] - 9s 13ms/step - loss: 0.2395 - binary_accuracy: 0.8294 - val_loss: 0.2044 - val_binary_accuracy: 0.8848\n",
      "Epoch 11/20\n",
      "727/727 [==============================] - 9s 13ms/step - loss: 0.3177 - binary_accuracy: 0.8006 - val_loss: 0.3274 - val_binary_accuracy: 0.7737\n",
      "Epoch 12/20\n",
      "727/727 [==============================] - 9s 13ms/step - loss: 0.2626 - binary_accuracy: 0.8157 - val_loss: 0.3434 - val_binary_accuracy: 0.7613\n",
      "Epoch 13/20\n",
      "727/727 [==============================] - 9s 12ms/step - loss: 0.2491 - binary_accuracy: 0.8253 - val_loss: 0.3272 - val_binary_accuracy: 0.7654\n",
      "Epoch 14/20\n",
      "727/727 [==============================] - 9s 12ms/step - loss: 0.2573 - binary_accuracy: 0.8418 - val_loss: 0.3698 - val_binary_accuracy: 0.7654\n",
      "Epoch 15/20\n",
      "727/727 [==============================] - 9s 12ms/step - loss: 0.2191 - binary_accuracy: 0.8267 - val_loss: 0.2548 - val_binary_accuracy: 0.8436\n",
      "Epoch 16/20\n",
      "727/727 [==============================] - 9s 12ms/step - loss: 0.2105 - binary_accuracy: 0.8569 - val_loss: 0.3968 - val_binary_accuracy: 0.7572\n",
      "Epoch 17/20\n",
      "727/727 [==============================] - 9s 12ms/step - loss: 0.2058 - binary_accuracy: 0.8487 - val_loss: 0.2656 - val_binary_accuracy: 0.8436\n",
      "Epoch 18/20\n",
      "727/727 [==============================] - 9s 13ms/step - loss: 0.2631 - binary_accuracy: 0.8528 - val_loss: 0.2880 - val_binary_accuracy: 0.8107\n",
      "Epoch 19/20\n",
      "727/727 [==============================] - 9s 13ms/step - loss: 0.1927 - binary_accuracy: 0.8693 - val_loss: 0.2303 - val_binary_accuracy: 0.8724\n",
      "Epoch 20/20\n",
      "727/727 [==============================] - 9s 12ms/step - loss: 0.1966 - binary_accuracy: 0.8735 - val_loss: 0.2935 - val_binary_accuracy: 0.8313\n"
     ]
    },
    {
     "data": {
      "text/plain": [
       "<keras.callbacks.History at 0x249c971fb80>"
      ]
     },
     "execution_count": 16,
     "metadata": {},
     "output_type": "execute_result"
    }
   ],
   "source": [
    "input_shape = x_train.shape[1:]\n",
    "weight_for_0 = (1 / lgOFF) * (lg / 2.0)\n",
    "weight_for_1 = (1 / lgON) * (lg / 2.0)\n",
    "\n",
    "class_weight = {0: weight_for_0, 1: weight_for_1}\n",
    "\n",
    "model = build_model(\n",
    "    input_shape,\n",
    "    head_size=256,\n",
    "    num_heads=4,\n",
    "    ff_dim=4,\n",
    "    num_transformer_blocks=4,\n",
    "    mlp_units=[128],\n",
    "    mlp_dropout=0.2,\n",
    "    dropout=0.1,)\n",
    "\n",
    "model.compile(\n",
    "    loss='binary_crossentropy',\n",
    "#     loss=BinaryFocalLoss(gamma=5),\n",
    "    optimizer=keras.optimizers.Adam(learning_rate=1e-4),\n",
    "    metrics=[\"binary_accuracy\"],\n",
    "    \n",
    "    \n",
    ")\n",
    "\n",
    "\n",
    "callbacks = [keras.callbacks.EarlyStopping(patience=180, restore_best_weights=True),csv_logger]\n",
    "\n",
    "model.fit(\n",
    "    x_train,\n",
    "    y_train,\n",
    "    validation_split=0.25,\n",
    "    epochs=20,\n",
    "    batch_size=1,\n",
    "    callbacks=callbacks,\n",
    "    class_weight=class_weight\n",
    ")\n",
    "\n"
   ]
  },
  {
   "cell_type": "code",
   "execution_count": null,
   "id": "c6f0faef",
   "metadata": {},
   "outputs": [],
   "source": [
    "# model.evaluate(x_test, y_test, verbose=1)"
   ]
  },
  {
   "cell_type": "code",
   "execution_count": 17,
   "id": "7d7ffadd",
   "metadata": {},
   "outputs": [
    {
     "name": "stdout",
     "output_type": "stream",
     "text": [
      "31/31 [==============================] - 5s 123ms/step\n",
      "Accuracy on training data: 86.28866076469421% \n",
      " Error on training data: 13.711339235305786\n",
      "1/1 [==============================] - 0s 63ms/step\n",
      "Accuracy on test data: 80.0000011920929% \n",
      " Error on test data: 19.999998807907104\n"
     ]
    }
   ],
   "source": [
    "pred_train= model.predict(x_train)\n",
    "scores = model.evaluate(x_train, y_train, verbose=0)\n",
    "print('Accuracy on training data: {}% \\n Error on training data: {}'.format(100*scores[1], (1 - scores[1])*100)   )\n",
    " \n",
    "pred_test= model.predict(x_test)\n",
    "scores2 = model.evaluate(x_test,y_test, verbose=0)\n",
    "print('Accuracy on test data: {}% \\n Error on test data: {}'.format(100*scores2[1], (1 - scores2[1])*100) )"
   ]
  },
  {
   "cell_type": "code",
   "execution_count": 18,
   "id": "36775d94",
   "metadata": {},
   "outputs": [
    {
     "name": "stdout",
     "output_type": "stream",
     "text": [
      "Predicted Labels:  [1, 0, 0, 0, 0, 0, 0, 0, 0, 0]\n",
      "Real      Labels:  [0, 0, 0, 0, 0, 0, 1, 0, 0, 0]\n"
     ]
    }
   ],
   "source": [
    "predicted_labels=[]\n",
    "for i in range(len(pred_test)):\n",
    "    if pred_test[i][0]>0.5:\n",
    "        predicted_labels.append(0)\n",
    "    else:\n",
    "        predicted_labels.append(1)\n",
    "print(\"Predicted Labels: \", predicted_labels)\n",
    "print(\"Real      Labels: \",y_test2)"
   ]
  },
  {
   "cell_type": "code",
   "execution_count": null,
   "id": "64b4b082",
   "metadata": {
    "scrolled": true
   },
   "outputs": [],
   "source": [
    "history = np.genfromtxt(model_history2,delimiter=',',names=True)\n",
    "\n",
    "plt.plot(history[\"epoch\"],history['loss'],label=\"training\")\n",
    "plt.plot(history[\"epoch\"],history['val_loss'],label=\"validation\")\n",
    "plt.legend()\n",
    "plt.show()"
   ]
  },
  {
   "cell_type": "code",
   "execution_count": null,
   "id": "cf71c567",
   "metadata": {},
   "outputs": [],
   "source": [
    "\n",
    "# more stable v3 ! \n",
    "\n",
    "# model = build_model(\n",
    "#     input_shape,\n",
    "#     head_size=10,\n",
    "#     num_heads=4,\n",
    "#     ff_dim=2,\n",
    "#     num_transformer_blocks=6,\n",
    "#     mlp_units=[128],\n",
    "#     mlp_dropout=0.2,\n",
    "#     dropout=0.1,\n",
    "\n",
    "# more stable v2 ! \n",
    "\n",
    "# model = build_model(\n",
    "#     input_shape,\n",
    "#     head_size=10,\n",
    "#     num_heads=4,\n",
    "#     ff_dim=2,\n",
    "#     num_transformer_blocks=8,\n",
    "#     mlp_units=[128],\n",
    "#     mlp_dropout=0.2,\n",
    "#     dropout=0.1,\n",
    "# )\n",
    "\n",
    "#     model.fit(\n",
    "#     x_train,\n",
    "#     y_train,\n",
    "#     validation_split=0.3,\n",
    "#     epochs=250,\n",
    "#     batch_size=4,"
   ]
  },
  {
   "cell_type": "code",
   "execution_count": 47,
   "id": "652cc2cc",
   "metadata": {},
   "outputs": [],
   "source": [
    "\n",
    "lgON=len(dataON)\n",
    "lgOFF=len(dataOFF)\n",
    "lg=lgON+lgOFF\n",
    "Class_ON = []\n",
    "Class_OFF=[]\n",
    "\n",
    "nbfeatures=4\n",
    "\n",
    "a=binning\n",
    "b=nbfeatures\n",
    "c=1\n",
    "\n",
    "# multivariate\n",
    "y=np.zeros((2,lg))\n",
    "bigdata= np.zeros((b,a))\n",
    "bigdata2= np.zeros((b,a))\n",
    "\n",
    "\n",
    "dataframe=pd.read_csv(dataON[0])\n",
    "dataframe.columns=['Iteration','MJD','Flux','Delta Flux','Photon Index','Delta Index','TS','fratio']\n",
    "\n",
    "bigdata[0]=dataframe['Flux']\n",
    "bigdata[1]=dataframe['Photon Index']*dataframe['Flux']\n",
    "bigdata[2]=dataframe['Photon Index']\n",
    "bigdata[3]=dataframe['MJD']\n",
    "\n",
    "dataframe=pd.read_csv(dataOFF[0])\n",
    "dataframe.columns=['Iteration','MJD','Flux','Delta Flux','Photon Index','Delta Index','TS','fratio']\n",
    "\n",
    "bigdata2[0]=dataframe['Flux']\n",
    "bigdata2[1]=dataframe['Photon Index']*dataframe['Flux']\n",
    "bigdata2[2]=dataframe['Photon Index']\n",
    "bigdata2[3]=dataframe['MJD']"
   ]
  },
  {
   "cell_type": "code",
   "execution_count": 48,
   "id": "f131c65f",
   "metadata": {},
   "outputs": [
    {
     "data": {
      "text/plain": [
       "[<matplotlib.lines.Line2D at 0x249d33be880>]"
      ]
     },
     "execution_count": 48,
     "metadata": {},
     "output_type": "execute_result"
    },
    {
     "data": {
      "image/png": "[encoded data removed]",
      "text/plain": [
       "<Figure size 432x288 with 1 Axes>"
      ]
     },
     "metadata": {
      "needs_background": "light"
     },
     "output_type": "display_data"
    }
   ],
   "source": [
    "plt.plot(bigdata[3],bigdata[1])"
   ]
  },
  {
   "cell_type": "code",
   "execution_count": 49,
   "id": "a86d6d08",
   "metadata": {},
   "outputs": [
    {
     "data": {
      "text/plain": [
       "[<matplotlib.lines.Line2D at 0x249d2214fa0>]"
      ]
     },
     "execution_count": 49,
     "metadata": {},
     "output_type": "execute_result"
    },
    {
     "data": {
      "image/png": "[encoded data removed]",
      "text/plain": [
       "<Figure size 432x288 with 1 Axes>"
      ]
     },
     "metadata": {
      "needs_background": "light"
     },
     "output_type": "display_data"
    }
   ],
   "source": [
    "plt.plot(bigdata2[3],bigdata2[1])"
   ]
  },
  {
   "cell_type": "code",
   "execution_count": 50,
   "id": "02b1f4d0",
   "metadata": {},
   "outputs": [
    {
     "data": {
      "text/plain": [
       "[<matplotlib.lines.Line2D at 0x249d344a6a0>]"
      ]
     },
     "execution_count": 50,
     "metadata": {},
     "output_type": "execute_result"
    },
    {
     "data": {
      "image/png": "[encoded data removed]",
      "text/plain": [
       "<Figure size 432x288 with 1 Axes>"
      ]
     },
     "metadata": {
      "needs_background": "light"
     },
     "output_type": "display_data"
    }
   ],
   "source": [
    "plt.plot(bigdata2[3],bigdata2[2])"
   ]
  },
  {
   "cell_type": "code",
   "execution_count": 51,
   "id": "e7243d4e",
   "metadata": {},
   "outputs": [
    {
     "data": {
      "text/plain": [
       "[<matplotlib.lines.Line2D at 0x249d34a8dc0>]"
      ]
     },
     "execution_count": 51,
     "metadata": {},
     "output_type": "execute_result"
    },
    {
     "data": {
      "image/png": "[encoded data removed]",
      "text/plain": [
       "<Figure size 432x288 with 1 Axes>"
      ]
     },
     "metadata": {
      "needs_background": "light"
     },
     "output_type": "display_data"
    }
   ],
   "source": [
    "plt.plot(bigdata[3],bigdata[2])"
   ]
  },
  {
   "cell_type": "code",
   "execution_count": null,
   "id": "4caf401d",
   "metadata": {},
   "outputs": [],
   "source": []
  }
 ],
 "metadata": {
  "kernelspec": {
   "display_name": "Python 3 (ipykernel)",
   "language": "python",
   "name": "python3"
  },
  "language_info": {
   "codemirror_mode": {
    "name": "ipython",
    "version": 3
   },
   "file_extension": ".py",
   "mimetype": "text/x-python",
   "name": "python",
   "nbconvert_exporter": "python",
   "pygments_lexer": "ipython3",
   "version": "3.9.12"
  }
 },
 "nbformat": 4,
 "nbformat_minor": 5
}
